{
 "cells": [
  {
   "cell_type": "markdown",
   "id": "58c8ef67-1c23-489c-8a13-81fcb5b3e640",
   "metadata": {},
   "source": [
    "# Titanic - Machine Learning from Disaster"
   ]
  },
  {
   "cell_type": "markdown",
   "id": "b8bef1f0-eeb6-41ba-9f65-ede4cc126b5a",
   "metadata": {},
   "source": [
    "## Import Libraries"
   ]
  },
  {
   "cell_type": "code",
   "execution_count": 1,
   "id": "afc5022e-14fe-41f2-a7da-53d39bacd96c",
   "metadata": {
    "tags": []
   },
   "outputs": [],
   "source": [
    "import pandas as pd\n",
    "import matplotlib.pyplot as plt\n"
   ]
  },
  {
   "cell_type": "markdown",
   "id": "9de1b86f-46e5-4ad2-ba0b-ca1cf20c465b",
   "metadata": {
    "tags": []
   },
   "source": [
    "## Load the dataset"
   ]
  },
  {
   "cell_type": "code",
   "execution_count": 2,
   "id": "688a906e-bc08-4af5-98d9-224d18441f67",
   "metadata": {},
   "outputs": [
    {
     "data": {
      "text/html": [
       "<div>\n",
       "<style scoped>\n",
       "    .dataframe tbody tr th:only-of-type {\n",
       "        vertical-align: middle;\n",
       "    }\n",
       "\n",
       "    .dataframe tbody tr th {\n",
       "        vertical-align: top;\n",
       "    }\n",
       "\n",
       "    .dataframe thead th {\n",
       "        text-align: right;\n",
       "    }\n",
       "</style>\n",
       "<table border=\"1\" class=\"dataframe\">\n",
       "  <thead>\n",
       "    <tr style=\"text-align: right;\">\n",
       "      <th></th>\n",
       "      <th>PassengerId</th>\n",
       "      <th>Survived</th>\n",
       "      <th>Pclass</th>\n",
       "      <th>Name</th>\n",
       "      <th>Sex</th>\n",
       "      <th>Age</th>\n",
       "      <th>SibSp</th>\n",
       "      <th>Parch</th>\n",
       "      <th>Ticket</th>\n",
       "      <th>Fare</th>\n",
       "      <th>Cabin</th>\n",
       "      <th>Embarked</th>\n",
       "    </tr>\n",
       "  </thead>\n",
       "  <tbody>\n",
       "    <tr>\n",
       "      <th>508</th>\n",
       "      <td>509</td>\n",
       "      <td>0</td>\n",
       "      <td>3</td>\n",
       "      <td>Olsen, Mr. Henry Margido</td>\n",
       "      <td>male</td>\n",
       "      <td>28.0</td>\n",
       "      <td>0</td>\n",
       "      <td>0</td>\n",
       "      <td>C 4001</td>\n",
       "      <td>22.5250</td>\n",
       "      <td>NaN</td>\n",
       "      <td>S</td>\n",
       "    </tr>\n",
       "    <tr>\n",
       "      <th>421</th>\n",
       "      <td>422</td>\n",
       "      <td>0</td>\n",
       "      <td>3</td>\n",
       "      <td>Charters, Mr. David</td>\n",
       "      <td>male</td>\n",
       "      <td>21.0</td>\n",
       "      <td>0</td>\n",
       "      <td>0</td>\n",
       "      <td>A/5. 13032</td>\n",
       "      <td>7.7333</td>\n",
       "      <td>NaN</td>\n",
       "      <td>Q</td>\n",
       "    </tr>\n",
       "    <tr>\n",
       "      <th>31</th>\n",
       "      <td>32</td>\n",
       "      <td>1</td>\n",
       "      <td>1</td>\n",
       "      <td>Spencer, Mrs. William Augustus (Marie Eugenie)</td>\n",
       "      <td>female</td>\n",
       "      <td>NaN</td>\n",
       "      <td>1</td>\n",
       "      <td>0</td>\n",
       "      <td>PC 17569</td>\n",
       "      <td>146.5208</td>\n",
       "      <td>B78</td>\n",
       "      <td>C</td>\n",
       "    </tr>\n",
       "    <tr>\n",
       "      <th>849</th>\n",
       "      <td>850</td>\n",
       "      <td>1</td>\n",
       "      <td>1</td>\n",
       "      <td>Goldenberg, Mrs. Samuel L (Edwiga Grabowska)</td>\n",
       "      <td>female</td>\n",
       "      <td>NaN</td>\n",
       "      <td>1</td>\n",
       "      <td>0</td>\n",
       "      <td>17453</td>\n",
       "      <td>89.1042</td>\n",
       "      <td>C92</td>\n",
       "      <td>C</td>\n",
       "    </tr>\n",
       "    <tr>\n",
       "      <th>399</th>\n",
       "      <td>400</td>\n",
       "      <td>1</td>\n",
       "      <td>2</td>\n",
       "      <td>Trout, Mrs. William H (Jessie L)</td>\n",
       "      <td>female</td>\n",
       "      <td>28.0</td>\n",
       "      <td>0</td>\n",
       "      <td>0</td>\n",
       "      <td>240929</td>\n",
       "      <td>12.6500</td>\n",
       "      <td>NaN</td>\n",
       "      <td>S</td>\n",
       "    </tr>\n",
       "  </tbody>\n",
       "</table>\n",
       "</div>"
      ],
      "text/plain": [
       "     PassengerId  Survived  Pclass  \\\n",
       "508          509         0       3   \n",
       "421          422         0       3   \n",
       "31            32         1       1   \n",
       "849          850         1       1   \n",
       "399          400         1       2   \n",
       "\n",
       "                                               Name     Sex   Age  SibSp  \\\n",
       "508                        Olsen, Mr. Henry Margido    male  28.0      0   \n",
       "421                             Charters, Mr. David    male  21.0      0   \n",
       "31   Spencer, Mrs. William Augustus (Marie Eugenie)  female   NaN      1   \n",
       "849    Goldenberg, Mrs. Samuel L (Edwiga Grabowska)  female   NaN      1   \n",
       "399                Trout, Mrs. William H (Jessie L)  female  28.0      0   \n",
       "\n",
       "     Parch      Ticket      Fare Cabin Embarked  \n",
       "508      0      C 4001   22.5250   NaN        S  \n",
       "421      0  A/5. 13032    7.7333   NaN        Q  \n",
       "31       0    PC 17569  146.5208   B78        C  \n",
       "849      0       17453   89.1042   C92        C  \n",
       "399      0      240929   12.6500   NaN        S  "
      ]
     },
     "execution_count": 2,
     "metadata": {},
     "output_type": "execute_result"
    }
   ],
   "source": [
    "train = pd.read_csv(\"train.csv\")\n",
    "test = pd.read_csv(\"test.csv\")\n",
    "pd.set_option('display.max_columns', len(train.columns))\n",
    "train.sample(5)"
   ]
  },
  {
   "cell_type": "code",
   "execution_count": 3,
   "id": "ddef0982-ec58-4f77-a222-dd6b78c34079",
   "metadata": {
    "tags": []
   },
   "outputs": [
    {
     "data": {
      "text/plain": [
       "PassengerId    False\n",
       "Survived       False\n",
       "Pclass         False\n",
       "Name           False\n",
       "Sex            False\n",
       "Age             True\n",
       "SibSp          False\n",
       "Parch          False\n",
       "Ticket         False\n",
       "Fare           False\n",
       "Cabin           True\n",
       "Embarked        True\n",
       "dtype: bool"
      ]
     },
     "execution_count": 3,
     "metadata": {},
     "output_type": "execute_result"
    }
   ],
   "source": [
    "train.isna().any()"
   ]
  },
  {
   "cell_type": "markdown",
   "id": "84d21b07-1d7c-4de5-8613-c59458a7e232",
   "metadata": {},
   "source": [
    "## Check duplicated values"
   ]
  },
  {
   "cell_type": "code",
   "execution_count": 4,
   "id": "1cca3597-c0d0-4485-bb70-6183c97c05c1",
   "metadata": {
    "tags": []
   },
   "outputs": [
    {
     "data": {
      "text/plain": [
       "PassengerId      0\n",
       "Survived         0\n",
       "Pclass           0\n",
       "Name             0\n",
       "Sex              0\n",
       "Age            0.0\n",
       "SibSp            0\n",
       "Parch            0\n",
       "Ticket           0\n",
       "Fare           0.0\n",
       "Cabin            0\n",
       "Embarked         0\n",
       "dtype: object"
      ]
     },
     "execution_count": 4,
     "metadata": {},
     "output_type": "execute_result"
    }
   ],
   "source": [
    "train[train.duplicated()].sum()"
   ]
  },
  {
   "cell_type": "markdown",
   "id": "36062de9-1afe-439d-8a0c-3951096ca835",
   "metadata": {},
   "source": [
    "## Exploratory data analysis"
   ]
  },
  {
   "cell_type": "code",
   "execution_count": 5,
   "id": "cb0a7b49-dcad-4eb6-9749-47a0483b506c",
   "metadata": {
    "tags": []
   },
   "outputs": [
    {
     "data": {
      "text/html": [
       "<div>\n",
       "<style scoped>\n",
       "    .dataframe tbody tr th:only-of-type {\n",
       "        vertical-align: middle;\n",
       "    }\n",
       "\n",
       "    .dataframe tbody tr th {\n",
       "        vertical-align: top;\n",
       "    }\n",
       "\n",
       "    .dataframe thead th {\n",
       "        text-align: right;\n",
       "    }\n",
       "</style>\n",
       "<table border=\"1\" class=\"dataframe\">\n",
       "  <thead>\n",
       "    <tr style=\"text-align: right;\">\n",
       "      <th></th>\n",
       "      <th>Pclass</th>\n",
       "      <th>Survived</th>\n",
       "      <th>Total</th>\n",
       "      <th>Percentage</th>\n",
       "    </tr>\n",
       "  </thead>\n",
       "  <tbody>\n",
       "    <tr>\n",
       "      <th>0</th>\n",
       "      <td>1</td>\n",
       "      <td>136</td>\n",
       "      <td>216</td>\n",
       "      <td>62.962963</td>\n",
       "    </tr>\n",
       "    <tr>\n",
       "      <th>1</th>\n",
       "      <td>2</td>\n",
       "      <td>87</td>\n",
       "      <td>184</td>\n",
       "      <td>47.282609</td>\n",
       "    </tr>\n",
       "    <tr>\n",
       "      <th>2</th>\n",
       "      <td>3</td>\n",
       "      <td>119</td>\n",
       "      <td>491</td>\n",
       "      <td>24.236253</td>\n",
       "    </tr>\n",
       "  </tbody>\n",
       "</table>\n",
       "</div>"
      ],
      "text/plain": [
       "   Pclass  Survived  Total  Percentage\n",
       "0       1       136    216   62.962963\n",
       "1       2        87    184   47.282609\n",
       "2       3       119    491   24.236253"
      ]
     },
     "execution_count": 5,
     "metadata": {},
     "output_type": "execute_result"
    }
   ],
   "source": [
    "# Perform groupby operation and aggregate using a dictionary of aggregation functions\n",
    "result = train.groupby('Pclass').agg({'Survived': ['sum', 'count']})\n",
    "\n",
    "# Rename the columns for clarity\n",
    "result.columns = ['Survived', 'Total']\n",
    "\n",
    "# Calculate the percentage of survived passengers\n",
    "result['Percentage'] = (result['Survived'] / result['Total']) * 100\n",
    "result.reset_index()"
   ]
  },
  {
   "cell_type": "markdown",
   "id": "13aa0b59-3e43-4f7b-85b2-07cd517e5b4d",
   "metadata": {},
   "source": [
    "### Pclass Summary"
   ]
  },
  {
   "cell_type": "code",
   "execution_count": 6,
   "id": "37f743f0-de06-44f2-96d6-0dbb42ba2a5f",
   "metadata": {
    "tags": []
   },
   "outputs": [
    {
     "data": {
      "text/html": [
       "<div>\n",
       "<style scoped>\n",
       "    .dataframe tbody tr th:only-of-type {\n",
       "        vertical-align: middle;\n",
       "    }\n",
       "\n",
       "    .dataframe tbody tr th {\n",
       "        vertical-align: top;\n",
       "    }\n",
       "\n",
       "    .dataframe thead th {\n",
       "        text-align: right;\n",
       "    }\n",
       "</style>\n",
       "<table border=\"1\" class=\"dataframe\">\n",
       "  <thead>\n",
       "    <tr style=\"text-align: right;\">\n",
       "      <th></th>\n",
       "      <th>Pclass</th>\n",
       "      <th>Survived</th>\n",
       "      <th>Total</th>\n",
       "      <th>%CLass</th>\n",
       "      <th>%Total</th>\n",
       "    </tr>\n",
       "  </thead>\n",
       "  <tbody>\n",
       "    <tr>\n",
       "      <th>0</th>\n",
       "      <td>1</td>\n",
       "      <td>136</td>\n",
       "      <td>216</td>\n",
       "      <td>62.962963</td>\n",
       "      <td>15.263749</td>\n",
       "    </tr>\n",
       "    <tr>\n",
       "      <th>1</th>\n",
       "      <td>2</td>\n",
       "      <td>87</td>\n",
       "      <td>184</td>\n",
       "      <td>47.282609</td>\n",
       "      <td>9.764310</td>\n",
       "    </tr>\n",
       "    <tr>\n",
       "      <th>2</th>\n",
       "      <td>3</td>\n",
       "      <td>119</td>\n",
       "      <td>491</td>\n",
       "      <td>24.236253</td>\n",
       "      <td>13.355780</td>\n",
       "    </tr>\n",
       "  </tbody>\n",
       "</table>\n",
       "</div>"
      ],
      "text/plain": [
       "   Pclass  Survived  Total     %CLass     %Total\n",
       "0       1       136    216  62.962963  15.263749\n",
       "1       2        87    184  47.282609   9.764310\n",
       "2       3       119    491  24.236253  13.355780"
      ]
     },
     "execution_count": 6,
     "metadata": {},
     "output_type": "execute_result"
    }
   ],
   "source": [
    "# Create a pivot table\n",
    "pivot_table = pd.pivot_table(train, index=[\"Pclass\"], values=[\"Survived\"],  aggfunc=sum)\n",
    "\n",
    "# Calculate total passengers for each class using value counts\n",
    "total_passengers = train['Pclass'].value_counts().sort_index()\n",
    "\n",
    "# Assign the total passengers to the pivot table\n",
    "pivot_table['Total'] = total_passengers\n",
    "\n",
    "#Total Passangers\n",
    "total_passengers =train['Pclass'].value_counts().sum()\n",
    "\n",
    "# # Calculate percentage of survived passengers within each class\n",
    "pivot_table['%CLass'] = (pivot_table[\"Survived\"] / pivot_table['Total']) * 100\n",
    "pivot_table['%Total'] = (pivot_table[\"Survived\"] / total_passengers) * 100\n",
    "\n",
    "# pivot_table['Percentage_Survived'] = (pivot_table[1] / pivot_table['Total']) * 100\n",
    "pivot_table.reset_index()"
   ]
  },
  {
   "cell_type": "markdown",
   "id": "2b243053-7ec9-4b3d-b38c-3d466b570dd1",
   "metadata": {},
   "source": [
    "### Gender Summary"
   ]
  },
  {
   "cell_type": "code",
   "execution_count": 7,
   "id": "29f569e5-effd-40b2-b26d-03f45a4e4659",
   "metadata": {
    "tags": []
   },
   "outputs": [
    {
     "data": {
      "text/html": [
       "<div>\n",
       "<style scoped>\n",
       "    .dataframe tbody tr th:only-of-type {\n",
       "        vertical-align: middle;\n",
       "    }\n",
       "\n",
       "    .dataframe tbody tr th {\n",
       "        vertical-align: top;\n",
       "    }\n",
       "\n",
       "    .dataframe thead th {\n",
       "        text-align: right;\n",
       "    }\n",
       "</style>\n",
       "<table border=\"1\" class=\"dataframe\">\n",
       "  <thead>\n",
       "    <tr style=\"text-align: right;\">\n",
       "      <th></th>\n",
       "      <th>Sex</th>\n",
       "      <th>Survived</th>\n",
       "      <th>Total</th>\n",
       "      <th>%CLass</th>\n",
       "      <th>%Total</th>\n",
       "    </tr>\n",
       "  </thead>\n",
       "  <tbody>\n",
       "    <tr>\n",
       "      <th>0</th>\n",
       "      <td>female</td>\n",
       "      <td>233</td>\n",
       "      <td>314</td>\n",
       "      <td>74.203822</td>\n",
       "      <td>26.150393</td>\n",
       "    </tr>\n",
       "    <tr>\n",
       "      <th>1</th>\n",
       "      <td>male</td>\n",
       "      <td>109</td>\n",
       "      <td>577</td>\n",
       "      <td>18.890815</td>\n",
       "      <td>12.233446</td>\n",
       "    </tr>\n",
       "  </tbody>\n",
       "</table>\n",
       "</div>"
      ],
      "text/plain": [
       "      Sex  Survived  Total     %CLass     %Total\n",
       "0  female       233    314  74.203822  26.150393\n",
       "1    male       109    577  18.890815  12.233446"
      ]
     },
     "execution_count": 7,
     "metadata": {},
     "output_type": "execute_result"
    }
   ],
   "source": [
    "# Create a pivot table\n",
    "pivot_table = pd.pivot_table(train, index=[\"Sex\"], values=[\"Survived\"],  aggfunc=sum)\n",
    "\n",
    "# Calculate total passengers for each class using value counts\n",
    "total_passengers = train['Sex'].value_counts().sort_index()\n",
    "\n",
    "# Assign the total passengers to the pivot table\n",
    "pivot_table['Total'] = total_passengers\n",
    "\n",
    "#Total Passangers\n",
    "total_passengers =train['Pclass'].value_counts().sum()\n",
    "\n",
    "# # Calculate percentage of survived passengers within each class\n",
    "pivot_table['%CLass'] = (pivot_table[\"Survived\"] / pivot_table['Total']) * 100\n",
    "pivot_table['%Total'] = (pivot_table[\"Survived\"] / total_passengers) * 100\n",
    "\n",
    "# pivot_table['Percentage_Survived'] = (pivot_table[1] / pivot_table['Total']) * 100\n",
    "pivot_table.reset_index()"
   ]
  },
  {
   "cell_type": "markdown",
   "id": "44be8665-3960-4a94-9734-80373657f072",
   "metadata": {},
   "source": [
    "### Age Summary"
   ]
  },
  {
   "cell_type": "code",
   "execution_count": 8,
   "id": "9cd5ed05-cb6e-46a6-b5e2-67f35c68750c",
   "metadata": {
    "tags": []
   },
   "outputs": [
    {
     "data": {
      "text/plain": [
       "Age\n",
       "24.00    30\n",
       "22.00    27\n",
       "18.00    26\n",
       "19.00    25\n",
       "28.00    25\n",
       "         ..\n",
       "36.50     1\n",
       "55.50     1\n",
       "0.92      1\n",
       "23.50     1\n",
       "74.00     1\n",
       "Name: count, Length: 88, dtype: int64"
      ]
     },
     "execution_count": 8,
     "metadata": {},
     "output_type": "execute_result"
    }
   ],
   "source": [
    "train['Age'].value_counts()"
   ]
  },
  {
   "cell_type": "code",
   "execution_count": 9,
   "id": "d14cd89c-b10c-4b4d-9fdc-545ad96e3486",
   "metadata": {
    "jupyter": {
     "source_hidden": true
    },
    "tags": []
   },
   "outputs": [],
   "source": [
    "# # Filter ages less than 20 using query\n",
    "# filtered_ages = train.query('Age < 20')\n",
    "# # Count occurrences of each age and sort by age in descending order\n",
    "# sorted_age_counts = filtered_ages['Age'].value_counts().sort_index(ascending=False)\n",
    "# sorted_age_counts"
   ]
  },
  {
   "cell_type": "code",
   "execution_count": 10,
   "id": "cd8e6094-cbfb-47d0-ad09-d0b6199533a3",
   "metadata": {
    "jupyter": {
     "source_hidden": true
    },
    "tags": []
   },
   "outputs": [],
   "source": [
    "# # Filter ages between 20 and 39 using query\n",
    "# filtered_ages = train.query('20 <= Age < 40')\n",
    "# # Count occurrences of each age and sort by age in descending order\n",
    "# sorted_age_counts = filtered_ages['Age'].value_counts().sort_index(ascending=False)\n",
    "# sorted_age_counts"
   ]
  },
  {
   "cell_type": "code",
   "execution_count": 11,
   "id": "491b42b1-3b86-4416-804a-8924514f154f",
   "metadata": {
    "jupyter": {
     "source_hidden": true
    },
    "tags": []
   },
   "outputs": [
    {
     "data": {
      "image/png": "[encoded data removed]",
      "text/plain": [
       "<Figure size 640x480 with 1 Axes>"
      ]
     },
     "metadata": {},
     "output_type": "display_data"
    }
   ],
   "source": [
    "# Define data and bins\n",
    "ages = train['Age']\n",
    "bins = range(0, 99, 10)  # Define bins with width of 10\n",
    "\n",
    "# Create histogram\n",
    "counts, bins, _ = plt.hist(ages, bins=bins, align='mid', rwidth=0.8)\n",
    "\n",
    "# Customize ticks and labels\n",
    "plt.xticks(bins)\n",
    "plt.xlabel('Age')\n",
    "plt.title('Age Distribution')\n",
    "\n",
    "# Remove unnecessary spines\n",
    "plt.gca().spines[['top','right','left']].set_visible(False)\n",
    "plt.tick_params(axis='y', which='both', left=False,labelleft=False)\n",
    "\n",
    "# Remove ticks from x-axis\n",
    "plt.tick_params(axis='x', bottom=False)\n",
    "\n",
    "# Annotate bars with their frequency values\n",
    "for i, count in enumerate(counts):\n",
    "    plt.text(bins[i] + (bins[i+1] - bins[i]) / 2, count, str(int(count)), ha='center', va='bottom')\n",
    "\n",
    "# Show the plot\n",
    "plt.show()"
   ]
  },
  {
   "cell_type": "code",
   "execution_count": null,
   "id": "34f6c44a-37f8-4c14-95e3-5eaee42be79c",
   "metadata": {},
   "outputs": [],
   "source": []
  }
 ],
 "metadata": {
  "kernelspec": {
   "display_name": "Python 3 (ipykernel)",
   "language": "python",
   "name": "python3"
  },
  "language_info": {
   "codemirror_mode": {
    "name": "ipython",
    "version": 3
   },
   "file_extension": ".py",
   "mimetype": "text/x-python",
   "name": "python",
   "nbconvert_exporter": "python",
   "pygments_lexer": "ipython3",
   "version": "3.11.5"
  },
  "toc-autonumbering": false
 },
 "nbformat": 4,
 "nbformat_minor": 5
}
