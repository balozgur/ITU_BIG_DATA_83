{
 "cells": [
  {
   "cell_type": "markdown",
   "id": "58c8ef67-1c23-489c-8a13-81fcb5b3e640",
   "metadata": {},
   "source": [
    "# Titanic - Machine Learning from Disaster"
   ]
  },
  {
   "cell_type": "markdown",
   "id": "b8bef1f0-eeb6-41ba-9f65-ede4cc126b5a",
   "metadata": {},
   "source": [
    "## Import Libraries"
   ]
  },
  {
   "cell_type": "code",
   "execution_count": 1,
   "id": "afc5022e-14fe-41f2-a7da-53d39bacd96c",
   "metadata": {
    "tags": []
   },
   "outputs": [],
   "source": [
    "import pandas as pd"
   ]
  },
  {
   "cell_type": "markdown",
   "id": "9de1b86f-46e5-4ad2-ba0b-ca1cf20c465b",
   "metadata": {
    "tags": []
   },
   "source": [
    "## Load the dataset"
   ]
  },
  {
   "cell_type": "code",
   "execution_count": 2,
   "id": "688a906e-bc08-4af5-98d9-224d18441f67",
   "metadata": {},
   "outputs": [
    {
     "data": {
      "text/html": [
       "<div>\n",
       "<style scoped>\n",
       "    .dataframe tbody tr th:only-of-type {\n",
       "        vertical-align: middle;\n",
       "    }\n",
       "\n",
       "    .dataframe tbody tr th {\n",
       "        vertical-align: top;\n",
       "    }\n",
       "\n",
       "    .dataframe thead th {\n",
       "        text-align: right;\n",
       "    }\n",
       "</style>\n",
       "<table border=\"1\" class=\"dataframe\">\n",
       "  <thead>\n",
       "    <tr style=\"text-align: right;\">\n",
       "      <th></th>\n",
       "      <th>PassengerId</th>\n",
       "      <th>Survived</th>\n",
       "      <th>Pclass</th>\n",
       "      <th>Name</th>\n",
       "      <th>Sex</th>\n",
       "      <th>Age</th>\n",
       "      <th>SibSp</th>\n",
       "      <th>Parch</th>\n",
       "      <th>Ticket</th>\n",
       "      <th>Fare</th>\n",
       "      <th>Cabin</th>\n",
       "      <th>Embarked</th>\n",
       "    </tr>\n",
       "  </thead>\n",
       "  <tbody>\n",
       "    <tr>\n",
       "      <th>596</th>\n",
       "      <td>597</td>\n",
       "      <td>1</td>\n",
       "      <td>2</td>\n",
       "      <td>Leitch, Miss. Jessie Wills</td>\n",
       "      <td>female</td>\n",
       "      <td>NaN</td>\n",
       "      <td>0</td>\n",
       "      <td>0</td>\n",
       "      <td>248727</td>\n",
       "      <td>33.0000</td>\n",
       "      <td>NaN</td>\n",
       "      <td>S</td>\n",
       "    </tr>\n",
       "    <tr>\n",
       "      <th>234</th>\n",
       "      <td>235</td>\n",
       "      <td>0</td>\n",
       "      <td>2</td>\n",
       "      <td>Leyson, Mr. Robert William Norman</td>\n",
       "      <td>male</td>\n",
       "      <td>24.0</td>\n",
       "      <td>0</td>\n",
       "      <td>0</td>\n",
       "      <td>C.A. 29566</td>\n",
       "      <td>10.5000</td>\n",
       "      <td>NaN</td>\n",
       "      <td>S</td>\n",
       "    </tr>\n",
       "    <tr>\n",
       "      <th>864</th>\n",
       "      <td>865</td>\n",
       "      <td>0</td>\n",
       "      <td>2</td>\n",
       "      <td>Gill, Mr. John William</td>\n",
       "      <td>male</td>\n",
       "      <td>24.0</td>\n",
       "      <td>0</td>\n",
       "      <td>0</td>\n",
       "      <td>233866</td>\n",
       "      <td>13.0000</td>\n",
       "      <td>NaN</td>\n",
       "      <td>S</td>\n",
       "    </tr>\n",
       "    <tr>\n",
       "      <th>411</th>\n",
       "      <td>412</td>\n",
       "      <td>0</td>\n",
       "      <td>3</td>\n",
       "      <td>Hart, Mr. Henry</td>\n",
       "      <td>male</td>\n",
       "      <td>NaN</td>\n",
       "      <td>0</td>\n",
       "      <td>0</td>\n",
       "      <td>394140</td>\n",
       "      <td>6.8583</td>\n",
       "      <td>NaN</td>\n",
       "      <td>Q</td>\n",
       "    </tr>\n",
       "    <tr>\n",
       "      <th>220</th>\n",
       "      <td>221</td>\n",
       "      <td>1</td>\n",
       "      <td>3</td>\n",
       "      <td>Sunderland, Mr. Victor Francis</td>\n",
       "      <td>male</td>\n",
       "      <td>16.0</td>\n",
       "      <td>0</td>\n",
       "      <td>0</td>\n",
       "      <td>SOTON/OQ 392089</td>\n",
       "      <td>8.0500</td>\n",
       "      <td>NaN</td>\n",
       "      <td>S</td>\n",
       "    </tr>\n",
       "  </tbody>\n",
       "</table>\n",
       "</div>"
      ],
      "text/plain": [
       "     PassengerId  Survived  Pclass                               Name     Sex  \\\n",
       "596          597         1       2         Leitch, Miss. Jessie Wills  female   \n",
       "234          235         0       2  Leyson, Mr. Robert William Norman    male   \n",
       "864          865         0       2             Gill, Mr. John William    male   \n",
       "411          412         0       3                    Hart, Mr. Henry    male   \n",
       "220          221         1       3     Sunderland, Mr. Victor Francis    male   \n",
       "\n",
       "      Age  SibSp  Parch           Ticket     Fare Cabin Embarked  \n",
       "596   NaN      0      0           248727  33.0000   NaN        S  \n",
       "234  24.0      0      0       C.A. 29566  10.5000   NaN        S  \n",
       "864  24.0      0      0           233866  13.0000   NaN        S  \n",
       "411   NaN      0      0           394140   6.8583   NaN        Q  \n",
       "220  16.0      0      0  SOTON/OQ 392089   8.0500   NaN        S  "
      ]
     },
     "execution_count": 2,
     "metadata": {},
     "output_type": "execute_result"
    }
   ],
   "source": [
    "train = pd.read_csv(\"train.csv\")\n",
    "test = pd.read_csv(\"test.csv\")\n",
    "pd.set_option('display.max_columns', len(train.columns))\n",
    "train.sample(5)"
   ]
  },
  {
   "cell_type": "code",
   "execution_count": 3,
   "id": "ddef0982-ec58-4f77-a222-dd6b78c34079",
   "metadata": {
    "tags": []
   },
   "outputs": [
    {
     "data": {
      "text/plain": [
       "PassengerId    False\n",
       "Survived       False\n",
       "Pclass         False\n",
       "Name           False\n",
       "Sex            False\n",
       "Age             True\n",
       "SibSp          False\n",
       "Parch          False\n",
       "Ticket         False\n",
       "Fare           False\n",
       "Cabin           True\n",
       "Embarked        True\n",
       "dtype: bool"
      ]
     },
     "execution_count": 3,
     "metadata": {},
     "output_type": "execute_result"
    }
   ],
   "source": [
    "train.isna().any()"
   ]
  },
  {
   "cell_type": "markdown",
   "id": "84d21b07-1d7c-4de5-8613-c59458a7e232",
   "metadata": {},
   "source": [
    "## Check duplicated values"
   ]
  },
  {
   "cell_type": "code",
   "execution_count": 4,
   "id": "1cca3597-c0d0-4485-bb70-6183c97c05c1",
   "metadata": {
    "tags": []
   },
   "outputs": [
    {
     "data": {
      "text/plain": [
       "PassengerId      0\n",
       "Survived         0\n",
       "Pclass           0\n",
       "Name             0\n",
       "Sex              0\n",
       "Age            0.0\n",
       "SibSp            0\n",
       "Parch            0\n",
       "Ticket           0\n",
       "Fare           0.0\n",
       "Cabin            0\n",
       "Embarked         0\n",
       "dtype: object"
      ]
     },
     "execution_count": 4,
     "metadata": {},
     "output_type": "execute_result"
    }
   ],
   "source": [
    "train[train.duplicated()].sum()"
   ]
  },
  {
   "cell_type": "markdown",
   "id": "36062de9-1afe-439d-8a0c-3951096ca835",
   "metadata": {},
   "source": [
    "## Exploratory data analysis"
   ]
  },
  {
   "cell_type": "code",
   "execution_count": 5,
   "id": "cb0a7b49-dcad-4eb6-9749-47a0483b506c",
   "metadata": {
    "tags": []
   },
   "outputs": [
    {
     "data": {
      "text/html": [
       "<div>\n",
       "<style scoped>\n",
       "    .dataframe tbody tr th:only-of-type {\n",
       "        vertical-align: middle;\n",
       "    }\n",
       "\n",
       "    .dataframe tbody tr th {\n",
       "        vertical-align: top;\n",
       "    }\n",
       "\n",
       "    .dataframe thead th {\n",
       "        text-align: right;\n",
       "    }\n",
       "</style>\n",
       "<table border=\"1\" class=\"dataframe\">\n",
       "  <thead>\n",
       "    <tr style=\"text-align: right;\">\n",
       "      <th></th>\n",
       "      <th>Pclass</th>\n",
       "      <th>Survived</th>\n",
       "      <th>Total</th>\n",
       "      <th>Percentage</th>\n",
       "    </tr>\n",
       "  </thead>\n",
       "  <tbody>\n",
       "    <tr>\n",
       "      <th>0</th>\n",
       "      <td>1</td>\n",
       "      <td>136</td>\n",
       "      <td>216</td>\n",
       "      <td>62.962963</td>\n",
       "    </tr>\n",
       "    <tr>\n",
       "      <th>1</th>\n",
       "      <td>2</td>\n",
       "      <td>87</td>\n",
       "      <td>184</td>\n",
       "      <td>47.282609</td>\n",
       "    </tr>\n",
       "    <tr>\n",
       "      <th>2</th>\n",
       "      <td>3</td>\n",
       "      <td>119</td>\n",
       "      <td>491</td>\n",
       "      <td>24.236253</td>\n",
       "    </tr>\n",
       "  </tbody>\n",
       "</table>\n",
       "</div>"
      ],
      "text/plain": [
       "   Pclass  Survived  Total  Percentage\n",
       "0       1       136    216   62.962963\n",
       "1       2        87    184   47.282609\n",
       "2       3       119    491   24.236253"
      ]
     },
     "execution_count": 5,
     "metadata": {},
     "output_type": "execute_result"
    }
   ],
   "source": [
    "# Perform groupby operation and aggregate using a dictionary of aggregation functions\n",
    "result = train.groupby('Pclass').agg({'Survived': ['sum', 'count']})\n",
    "\n",
    "# Rename the columns for clarity\n",
    "result.columns = ['Survived', 'Total']\n",
    "\n",
    "# Calculate the percentage of survived passengers\n",
    "result['Percentage'] = (result['Survived'] / result['Total']) * 100\n",
    "result.reset_index()"
   ]
  },
  {
   "cell_type": "markdown",
   "id": "13aa0b59-3e43-4f7b-85b2-07cd517e5b4d",
   "metadata": {},
   "source": [
    "### Pclass Summary"
   ]
  },
  {
   "cell_type": "code",
   "execution_count": 6,
   "id": "37f743f0-de06-44f2-96d6-0dbb42ba2a5f",
   "metadata": {
    "tags": []
   },
   "outputs": [
    {
     "data": {
      "text/html": [
       "<div>\n",
       "<style scoped>\n",
       "    .dataframe tbody tr th:only-of-type {\n",
       "        vertical-align: middle;\n",
       "    }\n",
       "\n",
       "    .dataframe tbody tr th {\n",
       "        vertical-align: top;\n",
       "    }\n",
       "\n",
       "    .dataframe thead th {\n",
       "        text-align: right;\n",
       "    }\n",
       "</style>\n",
       "<table border=\"1\" class=\"dataframe\">\n",
       "  <thead>\n",
       "    <tr style=\"text-align: right;\">\n",
       "      <th></th>\n",
       "      <th>Pclass</th>\n",
       "      <th>Survived</th>\n",
       "      <th>Total</th>\n",
       "      <th>%CLass</th>\n",
       "      <th>%Total</th>\n",
       "    </tr>\n",
       "  </thead>\n",
       "  <tbody>\n",
       "    <tr>\n",
       "      <th>0</th>\n",
       "      <td>1</td>\n",
       "      <td>136</td>\n",
       "      <td>216</td>\n",
       "      <td>62.962963</td>\n",
       "      <td>15.263749</td>\n",
       "    </tr>\n",
       "    <tr>\n",
       "      <th>1</th>\n",
       "      <td>2</td>\n",
       "      <td>87</td>\n",
       "      <td>184</td>\n",
       "      <td>47.282609</td>\n",
       "      <td>9.764310</td>\n",
       "    </tr>\n",
       "    <tr>\n",
       "      <th>2</th>\n",
       "      <td>3</td>\n",
       "      <td>119</td>\n",
       "      <td>491</td>\n",
       "      <td>24.236253</td>\n",
       "      <td>13.355780</td>\n",
       "    </tr>\n",
       "  </tbody>\n",
       "</table>\n",
       "</div>"
      ],
      "text/plain": [
       "   Pclass  Survived  Total     %CLass     %Total\n",
       "0       1       136    216  62.962963  15.263749\n",
       "1       2        87    184  47.282609   9.764310\n",
       "2       3       119    491  24.236253  13.355780"
      ]
     },
     "execution_count": 6,
     "metadata": {},
     "output_type": "execute_result"
    }
   ],
   "source": [
    "# Create a pivot table\n",
    "pivot_table = pd.pivot_table(train, index=[\"Pclass\"], values=[\"Survived\"],  aggfunc=sum)\n",
    "\n",
    "# Calculate total passengers for each class using value counts\n",
    "total_passengers = train['Pclass'].value_counts().sort_index()\n",
    "\n",
    "# Assign the total passengers to the pivot table\n",
    "pivot_table['Total'] = total_passengers\n",
    "\n",
    "#Total Passangers\n",
    "total_passengers =train['Pclass'].value_counts().sum()\n",
    "\n",
    "# # Calculate percentage of survived passengers within each class\n",
    "pivot_table['%CLass'] = (pivot_table[\"Survived\"] / pivot_table['Total']) * 100\n",
    "pivot_table['%Total'] = (pivot_table[\"Survived\"] / total_passengers) * 100\n",
    "\n",
    "# pivot_table['Percentage_Survived'] = (pivot_table[1] / pivot_table['Total']) * 100\n",
    "pivot_table.reset_index()"
   ]
  },
  {
   "cell_type": "markdown",
   "id": "2b243053-7ec9-4b3d-b38c-3d466b570dd1",
   "metadata": {},
   "source": [
    "### Gender Summary"
   ]
  },
  {
   "cell_type": "code",
   "execution_count": 7,
   "id": "29f569e5-effd-40b2-b26d-03f45a4e4659",
   "metadata": {
    "tags": []
   },
   "outputs": [
    {
     "data": {
      "text/html": [
       "<div>\n",
       "<style scoped>\n",
       "    .dataframe tbody tr th:only-of-type {\n",
       "        vertical-align: middle;\n",
       "    }\n",
       "\n",
       "    .dataframe tbody tr th {\n",
       "        vertical-align: top;\n",
       "    }\n",
       "\n",
       "    .dataframe thead th {\n",
       "        text-align: right;\n",
       "    }\n",
       "</style>\n",
       "<table border=\"1\" class=\"dataframe\">\n",
       "  <thead>\n",
       "    <tr style=\"text-align: right;\">\n",
       "      <th></th>\n",
       "      <th>Sex</th>\n",
       "      <th>Survived</th>\n",
       "      <th>Total</th>\n",
       "      <th>%CLass</th>\n",
       "      <th>%Total</th>\n",
       "    </tr>\n",
       "  </thead>\n",
       "  <tbody>\n",
       "    <tr>\n",
       "      <th>0</th>\n",
       "      <td>female</td>\n",
       "      <td>233</td>\n",
       "      <td>314</td>\n",
       "      <td>74.203822</td>\n",
       "      <td>26.150393</td>\n",
       "    </tr>\n",
       "    <tr>\n",
       "      <th>1</th>\n",
       "      <td>male</td>\n",
       "      <td>109</td>\n",
       "      <td>577</td>\n",
       "      <td>18.890815</td>\n",
       "      <td>12.233446</td>\n",
       "    </tr>\n",
       "  </tbody>\n",
       "</table>\n",
       "</div>"
      ],
      "text/plain": [
       "      Sex  Survived  Total     %CLass     %Total\n",
       "0  female       233    314  74.203822  26.150393\n",
       "1    male       109    577  18.890815  12.233446"
      ]
     },
     "execution_count": 7,
     "metadata": {},
     "output_type": "execute_result"
    }
   ],
   "source": [
    "# Create a pivot table\n",
    "pivot_table = pd.pivot_table(train, index=[\"Sex\"], values=[\"Survived\"],  aggfunc=sum)\n",
    "\n",
    "# Calculate total passengers for each class using value counts\n",
    "total_passengers = train['Sex'].value_counts().sort_index()\n",
    "\n",
    "# Assign the total passengers to the pivot table\n",
    "pivot_table['Total'] = total_passengers\n",
    "\n",
    "#Total Passangers\n",
    "total_passengers =train['Pclass'].value_counts().sum()\n",
    "\n",
    "# # Calculate percentage of survived passengers within each class\n",
    "pivot_table['%CLass'] = (pivot_table[\"Survived\"] / pivot_table['Total']) * 100\n",
    "pivot_table['%Total'] = (pivot_table[\"Survived\"] / total_passengers) * 100\n",
    "\n",
    "# pivot_table['Percentage_Survived'] = (pivot_table[1] / pivot_table['Total']) * 100\n",
    "pivot_table.reset_index()"
   ]
  },
  {
   "cell_type": "markdown",
   "id": "44be8665-3960-4a94-9734-80373657f072",
   "metadata": {},
   "source": [
    "### Age Summary"
   ]
  },
  {
   "cell_type": "code",
   "execution_count": null,
   "id": "063b4e2d-5589-409e-8990-9edb909b8128",
   "metadata": {},
   "outputs": [],
   "source": []
  }
 ],
 "metadata": {
  "kernelspec": {
   "display_name": "Python 3 (ipykernel)",
   "language": "python",
   "name": "python3"
  },
  "language_info": {
   "codemirror_mode": {
    "name": "ipython",
    "version": 3
   },
   "file_extension": ".py",
   "mimetype": "text/x-python",
   "name": "python",
   "nbconvert_exporter": "python",
   "pygments_lexer": "ipython3",
   "version": "3.11.5"
  }
 },
 "nbformat": 4,
 "nbformat_minor": 5
}
